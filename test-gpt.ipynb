{
 "cells": [
  {
   "cell_type": "code",
   "execution_count": 1,
   "id": "c8beebae-b8ab-4859-9269-0b3bfb88efbb",
   "metadata": {},
   "outputs": [
    {
     "name": "stdout",
     "output_type": "stream",
     "text": [
      "Thu Aug  1 14:42:14 2024       \n",
      "+-----------------------------------------------------------------------------------------+\n",
      "| NVIDIA-SMI 555.58.02              Driver Version: 555.58.02      CUDA Version: 12.5     |\n",
      "|-----------------------------------------+------------------------+----------------------+\n",
      "| GPU  Name                 Persistence-M | Bus-Id          Disp.A | Volatile Uncorr. ECC |\n",
      "| Fan  Temp   Perf          Pwr:Usage/Cap |           Memory-Usage | GPU-Util  Compute M. |\n",
      "|                                         |                        |               MIG M. |\n",
      "|=========================================+========================+======================|\n",
      "|   0  NVIDIA GeForce RTX 4050 ...    Off |   00000000:01:00.0 Off |                  N/A |\n",
      "| N/A   43C    P0             16W /   80W |      11MiB /   6141MiB |      0%      Default |\n",
      "|                                         |                        |                  N/A |\n",
      "+-----------------------------------------+------------------------+----------------------+\n",
      "                                                                                         \n",
      "+-----------------------------------------------------------------------------------------+\n",
      "| Processes:                                                                              |\n",
      "|  GPU   GI   CI        PID   Type   Process name                              GPU Memory |\n",
      "|        ID   ID                                                               Usage      |\n",
      "|=========================================================================================|\n",
      "|    0   N/A  N/A       794      G   /usr/lib/Xorg                                   4MiB |\n",
      "+-----------------------------------------------------------------------------------------+\n",
      "Python 3.8.19\n"
     ]
    }
   ],
   "source": [
    "!nvidia-smi\n",
    "!python --version"
   ]
  },
  {
   "cell_type": "code",
   "execution_count": 9,
   "id": "cb71b578-c8f4-4c24-a772-3d2c9bcfd608",
   "metadata": {
    "scrolled": true
   },
   "outputs": [
    {
     "name": "stdout",
     "output_type": "stream",
     "text": [
      "Total no. of characters in the text file : 41241\n",
      "Character Set : \n",
      "{'C', ' ', 'e', 'B', 'm', 'i', 'M', 'K', 'u', '[', 't', 'f', 's', 'F', '2', '4', '!', 'o', 'R', '5', 'O', ':', 'J', ';', '1', '-', 'l', 'd', ']', 'V', '?', 'x', 'h', '9', 'z', \"'\", 'U', '*', 'j', 'g', 'q', 'a', 'E', 'y', 'S', 'G', 'k', 'H', 'v', 'b', ',', '_', 'T', 'w', 'A', 'n', 'p', '\\n', 'L', 'c', 'N', 'I', 'D', 'Q', 'Y', 'r', '.', 'P', 'W', '\"'}\n",
      "Total distinct characters : 70\n"
     ]
    }
   ],
   "source": [
    "with open(\"dataset.txt\", 'r', encoding=\"utf-8\") as f:\n",
    "    text = f.read()\n",
    "print(f\"Total no. of characters in the text file : {len(text)}\")\n",
    "\n",
    "characters = set(text)\n",
    "print(\"Character Set : \")\n",
    "print(characters)\n",
    "print(f\"Total distinct characters : {len(characters)}\")"
   ]
  },
  {
   "cell_type": "code",
   "execution_count": 19,
   "id": "ba31c154-cda6-4c17-bb50-02214f61bce0",
   "metadata": {},
   "outputs": [
    {
     "name": "stdout",
     "output_type": "stream",
     "text": [
      "String to Integer set : \n",
      "{'C': 0, ' ': 1, 'e': 2, 'B': 3, 'm': 4, 'i': 5, 'M': 6, 'K': 7, 'u': 8, '[': 9, 't': 10, 'f': 11, 's': 12, 'F': 13, '2': 14, '4': 15, '!': 16, 'o': 17, 'R': 18, '5': 19, 'O': 20, ':': 21, 'J': 22, ';': 23, '1': 24, '-': 25, 'l': 26, 'd': 27, ']': 28, 'V': 29, '?': 30, 'x': 31, 'h': 32, '9': 33, 'z': 34, \"'\": 35, 'U': 36, '*': 37, 'j': 38, 'g': 39, 'q': 40, 'a': 41, 'E': 42, 'y': 43, 'S': 44, 'G': 45, 'k': 46, 'H': 47, 'v': 48, 'b': 49, ',': 50, '_': 51, 'T': 52, 'w': 53, 'A': 54, 'n': 55, 'p': 56, '\\n': 57, 'L': 58, 'c': 59, 'N': 60, 'I': 61, 'D': 62, 'Q': 63, 'Y': 64, 'r': 65, '.': 66, 'P': 67, 'W': 68, '\"': 69}\n",
      "Integer to String set : \n",
      "{0: 'C', 1: ' ', 2: 'e', 3: 'B', 4: 'm', 5: 'i', 6: 'M', 7: 'K', 8: 'u', 9: '[', 10: 't', 11: 'f', 12: 's', 13: 'F', 14: '2', 15: '4', 16: '!', 17: 'o', 18: 'R', 19: '5', 20: 'O', 21: ':', 22: 'J', 23: ';', 24: '1', 25: '-', 26: 'l', 27: 'd', 28: ']', 29: 'V', 30: '?', 31: 'x', 32: 'h', 33: '9', 34: 'z', 35: \"'\", 36: 'U', 37: '*', 38: 'j', 39: 'g', 40: 'q', 41: 'a', 42: 'E', 43: 'y', 44: 'S', 45: 'G', 46: 'k', 47: 'H', 48: 'v', 49: 'b', 50: ',', 51: '_', 52: 'T', 53: 'w', 54: 'A', 55: 'n', 56: 'p', 57: '\\n', 58: 'L', 59: 'c', 60: 'N', 61: 'I', 62: 'D', 63: 'Q', 64: 'Y', 65: 'r', 66: '.', 67: 'P', 68: 'W', 69: '\"'}\n",
      "Encoded information : [54, 46, 5, 26, 2, 12, 32] \n",
      "Decoded information : Akilesh \n"
     ]
    }
   ],
   "source": [
    "# Designing the tokenizer\n",
    "# source : https://huggingface.co/docs/transformers/en/main_classes/tokenizer\n",
    "\n",
    "# Character tokenizer\n",
    "str_to_int = { char:ind for ind, char in enumerate(characters) }\n",
    "print(\"String to Integer set : \")\n",
    "print(str_to_int)\n",
    "\n",
    "int_to_str = { ind:char for ind, char in enumerate(characters) }\n",
    "print(\"Integer to String set : \")\n",
    "print(int_to_str)\n",
    "\n",
    "# Defining the encoder\n",
    "def encoder(word):\n",
    "    return [ str_to_int[char] for char in word ]\n",
    "\n",
    "def decoder(lst):\n",
    "    return ''.join([ int_to_str[i] for i in lst ])\n",
    "\n",
    "\n",
    "encoded = encoder(\"Akilesh\")\n",
    "decoded = decoder(encoded)\n",
    "\n",
    "print(f\"Encoded information : {encoded} \")\n",
    "print(f\"Decoded information : {decoded} \")"
   ]
  },
  {
   "cell_type": "markdown",
   "id": "669c0065-aa24-4ef8-b7ea-35bc528315c7",
   "metadata": {},
   "source": []
  }
 ],
 "metadata": {
  "kernelspec": {
   "display_name": "Python 3 (ipykernel)",
   "language": "python",
   "name": "python3"
  },
  "language_info": {
   "codemirror_mode": {
    "name": "ipython",
    "version": 3
   },
   "file_extension": ".py",
   "mimetype": "text/x-python",
   "name": "python",
   "nbconvert_exporter": "python",
   "pygments_lexer": "ipython3",
   "version": "3.8.19"
  }
 },
 "nbformat": 4,
 "nbformat_minor": 5
}
