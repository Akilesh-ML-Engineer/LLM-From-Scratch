{
 "cells": [
  {
   "cell_type": "code",
   "execution_count": 3,
   "id": "71721ba6-3ed4-4a44-b837-44b62f136a49",
   "metadata": {},
   "outputs": [
    {
     "name": "stdout",
     "output_type": "stream",
     "text": [
      "Sat Aug  3 10:00:54 2024       \n",
      "+-----------------------------------------------------------------------------------------+\n",
      "| NVIDIA-SMI 555.58.02              Driver Version: 555.58.02      CUDA Version: 12.5     |\n",
      "|-----------------------------------------+------------------------+----------------------+\n",
      "| GPU  Name                 Persistence-M | Bus-Id          Disp.A | Volatile Uncorr. ECC |\n",
      "| Fan  Temp   Perf          Pwr:Usage/Cap |           Memory-Usage | GPU-Util  Compute M. |\n",
      "|                                         |                        |               MIG M. |\n",
      "|=========================================+========================+======================|\n",
      "|   0  NVIDIA GeForce RTX 4050 ...    Off |   00000000:01:00.0 Off |                  N/A |\n",
      "| N/A   43C    P8              2W /   50W |     131MiB /   6141MiB |      0%      Default |\n",
      "|                                         |                        |                  N/A |\n",
      "+-----------------------------------------+------------------------+----------------------+\n",
      "                                                                                         \n",
      "+-----------------------------------------------------------------------------------------+\n",
      "| Processes:                                                                              |\n",
      "|  GPU   GI   CI        PID   Type   Process name                              GPU Memory |\n",
      "|        ID   ID                                                               Usage      |\n",
      "|=========================================================================================|\n",
      "|    0   N/A  N/A       789      G   /usr/lib/Xorg                                   4MiB |\n",
      "|    0   N/A  N/A     12225      C   ...e/asa/anaconda3/envs/LLM/bin/python        112MiB |\n",
      "+-----------------------------------------------------------------------------------------+\n",
      "Python 3.8.19\n"
     ]
    }
   ],
   "source": [
    "!nvidia-smi\n",
    "!python --version"
   ]
  },
  {
   "cell_type": "markdown",
   "id": "cabe6efb-1f19-42ed-b4bf-b5bd0d5b1b09",
   "metadata": {},
   "source": [
    "# Implementing the Bigram Language Model using the nltk package"
   ]
  },
  {
   "cell_type": "code",
   "execution_count": 22,
   "id": "bb152e2d-589f-4ab9-b173-f8ff05d48408",
   "metadata": {},
   "outputs": [
    {
     "name": "stderr",
     "output_type": "stream",
     "text": [
      "[nltk_data] Downloading package reuters to /home/asa/nltk_data...\n",
      "[nltk_data]   Package reuters is already up-to-date!\n",
      "[nltk_data] Downloading package punkt to /home/asa/nltk_data...\n",
      "[nltk_data]   Package punkt is already up-to-date!\n"
     ]
    },
    {
     "data": {
      "text/plain": [
       "True"
      ]
     },
     "execution_count": 22,
     "metadata": {},
     "output_type": "execute_result"
    }
   ],
   "source": [
    "# Using the Reuters corpus, a collection of news documents used for natural language processing tasks.\n",
    "# Using the Punkt tokenizer\n",
    "\n",
    "# Importing the required packages\n",
    "import nltk\n",
    "from nltk.corpus import reuters\n",
    "from nltk import bigrams\n",
    "from collections import Counter, defaultdict\n",
    "\n",
    "# Downloading the reuter dataset and punkt tokenizer\n",
    "nltk.download(\"reuters\")\n",
    "nltk.download(\"punkt\")"
   ]
  },
  {
   "cell_type": "code",
   "execution_count": 23,
   "id": "be4cf4ab-91bf-4d7a-8ddc-aae586cd8de1",
   "metadata": {},
   "outputs": [
    {
     "name": "stdout",
     "output_type": "stream",
     "text": [
      "defaultdict(<function <lambda> at 0x74a4150ac790>, {})\n"
     ]
    }
   ],
   "source": [
    "# default structure for the model\n",
    "bigram_model = defaultdict( lambda : defaultdict( lambda : 0 ))\n",
    "print(bigram_model)"
   ]
  },
  {
   "cell_type": "code",
   "execution_count": 25,
   "id": "c89fc0a3-f859-4354-a257-43a822dafa0d",
   "metadata": {
    "scrolled": true
   },
   "outputs": [],
   "source": [
    "# Counting the co-occurence\n",
    "for sentence in reuters.sents():\n",
    "    for w1, w2 in bigrams( sentence, pad_right=True, pad_left=True ):\n",
    "        bigram_model[w1][w2] += 1"
   ]
  },
  {
   "cell_type": "code",
   "execution_count": 37,
   "id": "259c68bc-fffc-45c6-8c4d-4e7b19a4a303",
   "metadata": {
    "scrolled": true
   },
   "outputs": [],
   "source": [
    "# Transforms the counts to probability\n",
    "for w1 in bigram_model:\n",
    "    total_count = float(sum(bigram_model[w1].values()))\n",
    "    for w2 in bigram_model[w1]:\n",
    "        bigram_model[w1][w2] /= total_count                # Finding the probability"
   ]
  },
  {
   "cell_type": "code",
   "execution_count": 53,
   "id": "76c78436-bbc1-4919-96b2-de208611c363",
   "metadata": {
    "scrolled": true
   },
   "outputs": [
    {
     "name": "stdout",
     "output_type": "stream",
     "text": [
      "{'.': 0.18636363636363637, 'to': 0.0659090909090909, \"'\": 0.10681818181818181, 'and': 0.025, 'as': 0.013636363636363636, ',': 0.16363636363636364, 'with': 0.007575757575757576, 'by': 0.020454545454545454, 'when': 0.0030303030303030303, 'on': 0.011363636363636364, 'recommended': 0.0007575757575757576, 'he': 0.005303030303030303, 'its': 0.0022727272727272726, 'for': 0.01893939393939394, 'De': 0.0007575757575757576, 'European': 0.0007575757575757576, 'described': 0.0007575757575757576, 'the': 0.013636363636363636, ',\"': 0.007575757575757576, 'they': 0.0015151515151515152, 'issued': 0.0015151515151515152, 'being': 0.0007575757575757576, 'that': 0.03333333333333333, 'quoted': 0.004545454545454545, 'it': 0.015909090909090907, '.\"': 0.003787878787878788, 'show': 0.0015151515151515152, 'of': 0.009848484848484848, 'at': 0.02878787878787879, 'through': 0.0015151515151515152, 'reported': 0.015151515151515152, '(': 0.0007575757575757576, 'said': 0.015909090909090907, 'in': 0.01893939393939394, 'well': 0.0007575757575757576, 'is': 0.0030303030303030303, 'a': 0.003787878787878788, 'because': 0.0022727272727272726, 'will': 0.0030303030303030303, 'are': 0.0015151515151515152, 'subject': 0.0007575757575757576, 'announced': 0.004545454545454545, 'discused': 0.0007575757575757576, 'after': 0.012121212121212121, 'fails': 0.0007575757575757576, 'rose': 0.0022727272727272726, 'did': 0.0015151515151515152, 'repeated': 0.0015151515151515152, 'rejected': 0.0015151515151515152, 'agreed': 0.0007575757575757576, 'welcomed': 0.0007575757575757576, 'ordered': 0.0015151515151515152, 'declared': 0.0015151515151515152, 'there': 0.0022727272727272726, 'approved': 0.0015151515151515152, 'reiterated': 0.0007575757575757576, 'many': 0.0007575757575757576, 'ahead': 0.0007575757575757576, 'was': 0.006060606060606061, 'started': 0.0007575757575757576, 'before': 0.0015151515151515152, 'should': 0.0007575757575757576, 'which': 0.003787878787878788, 'expects': 0.0007575757575757576, 'looking': 0.0007575757575757576, 'around': 0.003787878787878788, 'told': 0.0007575757575757576, 'published': 0.0015151515151515152, 'indicate': 0.0007575757575757576, 'were': 0.005303030303030303, 'suggest': 0.0007575757575757576, 'ended': 0.0007575757575757576, 'into': 0.0007575757575757576, 'this': 0.0022727272727272726, 'urged': 0.0015151515151515152, 'or': 0.0030303030303030303, 'buying': 0.0007575757575757576, 'called': 0.0030303030303030303, 'against': 0.0015151515151515152, 'received': 0.0015151515151515152, 'without': 0.0022727272727272726, 'slipped': 0.0015151515151515152, 'while': 0.0007575757575757576, 'motivated': 0.0007575757575757576, 'from': 0.006060606060606061, 'except': 0.0007575757575757576, 'fixed': 0.0007575757575757576, 'amounts': 0.0007575757575757576, 'cannot': 0.0007575757575757576, 'up': 0.0015151515151515152, 'Cable': 0.0007575757575757576, 'delivering': 0.0007575757575757576, 'releases': 0.0007575757575757576, 'signed': 0.0015151515151515152, 'paid': 0.0007575757575757576, 'supplied': 0.0007575757575757576, 'involving': 0.0007575757575757576, 'higher': 0.0007575757575757576, 'adjourned': 0.0007575757575757576, 'would': 0.0022727272727272726, 'declined': 0.0007575757575757576, 'matched': 0.0007575757575757576, 'partly': 0.0007575757575757576, 'produced': 0.0007575757575757576, 'compared': 0.0015151515151515152, 'following': 0.0015151515151515152, 'registered': 0.0007575757575757576, 'totalled': 0.0007575757575757576, 'damaged': 0.0007575757575757576, 'AFG': 0.0007575757575757576, 'bid': 0.0007575757575757576, 'asked': 0.0007575757575757576, 'calling': 0.0007575757575757576, 'addresses': 0.0007575757575757576, 'appointed': 0.0007575757575757576, 'scrambling': 0.0007575757575757576, 'Armand': 0.0007575757575757576, '310': 0.0007575757575757576, 'transmitted': 0.0007575757575757576, 'reaffirmed': 0.0007575757575757576, 'includes': 0.0007575757575757576, 'predicted': 0.0007575757575757576, 'between': 0.0015151515151515152, 'set': 0.0007575757575757576, 'just': 0.0007575757575757576, 'closed': 0.0022727272727272726, 'showed': 0.0007575757575757576, 'newspapers': 0.0007575757575757576, 'again': 0.0007575757575757576, 'held': 0.0007575757575757576, 'Hughes': 0.0007575757575757576, 'formally': 0.0015151515151515152, 'subsidized': 0.0007575757575757576, 'suspended': 0.0007575757575757576, 'began': 0.0022727272727272726, 'entitled': 0.0007575757575757576, 'revealed': 0.0007575757575757576, 'dismissed': 0.0007575757575757576, 'placed': 0.0007575757575757576, 'Third': 0.0007575757575757576, 'under': 0.0015151515151515152, 'decided': 0.0007575757575757576, 'accelerated': 0.0007575757575757576, 'working': 0.0007575757575757576, 'Saudi': 0.0007575757575757576, 'Hungary': 0.0007575757575757576, 'hold': 0.0007575757575757576, 'put': 0.0007575757575757576, 'sought': 0.0007575757575757576, 'Kurzweil': 0.0007575757575757576, 'giving': 0.0007575757575757576, 'hit': 0.0007575757575757576, 'clearly': 0.0007575757575757576, 'repaid': 0.0007575757575757576, 'hailed': 0.0007575757575757576, 'opened': 0.0007575757575757576, 'but': 0.0030303030303030303, 'must': 0.0007575757575757576, 'down': 0.0015151515151515152, 'introduce': 0.0007575757575757576, 'now': 0.0007575757575757576, 'revived': 0.0007575757575757576, 'so': 0.0007575757575757576, 'met': 0.0007575757575757576, 'included': 0.0007575757575757576, 'denied': 0.0007575757575757576, 'Greek': 0.0007575757575757576, 'lodged': 0.0007575757575757576, 'joined': 0.0007575757575757576, 'their': 0.0007575757575757576, 'MTS': 0.0007575757575757576, 'along': 0.0007575757575757576, 'Iran': 0.0007575757575757576, 'appeared': 0.0007575757575757576, 'saying': 0.0007575757575757576, 'foreign': 0.0007575757575757576, 'vowed': 0.0007575757575757576, 'GenCorp': 0.0007575757575757576, 'near': 0.0007575757575757576, 'brought': 0.0007575757575757576, 'indicated': 0.0007575757575757576, 'onward': 0.0007575757575757576, 'publish': 0.0007575757575757576}\n"
     ]
    }
   ],
   "source": [
    "# bigram_model prediction made for a word\n",
    "print(dict(bigram_model['today']))"
   ]
  },
  {
   "cell_type": "markdown",
   "id": "99c9d0a1-126a-4b99-9ad7-26f42460e5f8",
   "metadata": {},
   "source": [
    "# Implementation of the Trigram Language Model using the nltk package"
   ]
  },
  {
   "cell_type": "code",
   "execution_count": 55,
   "id": "29a82099-a106-47ee-b4ec-30744c812ac1",
   "metadata": {},
   "outputs": [
    {
     "name": "stderr",
     "output_type": "stream",
     "text": [
      "[nltk_data] Downloading package reuters to /home/asa/nltk_data...\n",
      "[nltk_data]   Package reuters is already up-to-date!\n",
      "[nltk_data] Downloading package punkt to /home/asa/nltk_data...\n",
      "[nltk_data]   Package punkt is already up-to-date!\n"
     ]
    },
    {
     "data": {
      "text/plain": [
       "True"
      ]
     },
     "execution_count": 55,
     "metadata": {},
     "output_type": "execute_result"
    }
   ],
   "source": [
    "# Importing the required package\n",
    "import nltk\n",
    "from nltk.corpus import reuters\n",
    "from nltk import trigrams\n",
    "from collections import Counter, defaultdict\n",
    "\n",
    "# Downloading the corpus and tokenizer model\n",
    "nltk.download(\"reuters\")\n",
    "nltk.download(\"punkt\")"
   ]
  },
  {
   "cell_type": "code",
   "execution_count": 56,
   "id": "2f38f540-2a1d-4268-a4a5-32f9e361db92",
   "metadata": {},
   "outputs": [],
   "source": [
    "# default template for the model\n",
    "trigrams_model = defaultdict( lambda: defaultdict( lambda: 0 ))\n",
    "\n",
    "# Counting the co-occurrence\n",
    "for sentence in reuters.sents():\n",
    "    for w1, w2, w3 in trigrams( sentence, pad_right=True, pad_left=True ):\n",
    "        trigrams_model[( w1, w2 )][w3] += 1"
   ]
  },
  {
   "cell_type": "code",
   "execution_count": 62,
   "id": "69af9829-c967-49b5-ae66-949609fe0cb2",
   "metadata": {},
   "outputs": [],
   "source": [
    "# Tranforming the count to probability\n",
    "for w1_w2 in trigrams_model:\n",
    "    total_count = float(sum(trigrams_model[w1_w2].values()))\n",
    "    for w3 in trigrams_model[w1_w2]:\n",
    "        trigrams_model[w1_w2][w3] /= total_count"
   ]
  },
  {
   "cell_type": "code",
   "execution_count": 71,
   "id": "e663975c-3b28-498c-b2fb-dd8edc1cef02",
   "metadata": {},
   "outputs": [
    {
     "name": "stderr",
     "output_type": "stream",
     "text": [
      "IOPub data rate exceeded.\n",
      "The Jupyter server will temporarily stop sending output\n",
      "to the client in order to avoid crashing it.\n",
      "To change this limit, set the config variable\n",
      "`--ServerApp.iopub_data_rate_limit`.\n",
      "\n",
      "Current values:\n",
      "ServerApp.iopub_data_rate_limit=1000000.0 (bytes/sec)\n",
      "ServerApp.rate_limit_window=3.0 (secs)\n",
      "\n"
     ]
    }
   ],
   "source": [
    "# Display the prediction made by the trigrams model\n",
    "print(dict(trigrams_model[]))"
   ]
  },
  {
   "cell_type": "code",
   "execution_count": null,
   "id": "68a2104d-b272-491a-87e1-1fb94de2c00b",
   "metadata": {},
   "outputs": [],
   "source": []
  }
 ],
 "metadata": {
  "kernelspec": {
   "display_name": "Python 3 (ipykernel)",
   "language": "python",
   "name": "python3"
  },
  "language_info": {
   "codemirror_mode": {
    "name": "ipython",
    "version": 3
   },
   "file_extension": ".py",
   "mimetype": "text/x-python",
   "name": "python",
   "nbconvert_exporter": "python",
   "pygments_lexer": "ipython3",
   "version": "3.8.19"
  }
 },
 "nbformat": 4,
 "nbformat_minor": 5
}
